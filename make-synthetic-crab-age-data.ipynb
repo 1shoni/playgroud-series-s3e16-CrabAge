{
 "metadata": {
  "kernelspec": {
   "language": "python",
   "display_name": "Python 3",
   "name": "python3"
  },
  "language_info": {
   "name": "python",
   "version": "3.10.10",
   "mimetype": "text/x-python",
   "codemirror_mode": {
    "name": "ipython",
    "version": 3
   },
   "pygments_lexer": "ipython3",
   "nbconvert_exporter": "python",
   "file_extension": ".py"
  }
 },
 "nbformat_minor": 4,
 "nbformat": 4,
 "cells": [
  {
   "cell_type": "code",
   "source": [
    "import os\n",
    "import pandas as pd\n",
    "\n",
    "import warnings\n",
    "warnings.filterwarnings(\"ignore\")\n",
    "\n",
    "for dirname, _, filenames in os.walk('/kaggle/input'):\n",
    "    for filename in filenames:\n",
    "        print(os.path.join(dirname, filename))\n",
    "        \n",
    "model_path = '/kaggle/input/crab-age-fine-tuned-gpt2/'"
   ],
   "metadata": {
    "_uuid": "8f2839f25d086af736a60e9eeb907d3b93b6e0e5",
    "_cell_guid": "b1076dfc-b9ad-4769-8c92-a6c4dae69d19",
    "execution": {
     "iopub.status.busy": "2023-06-04T06:01:12.078687Z",
     "iopub.execute_input": "2023-06-04T06:01:12.079548Z",
     "iopub.status.idle": "2023-06-04T06:01:12.096954Z",
     "shell.execute_reply.started": "2023-06-04T06:01:12.079516Z",
     "shell.execute_reply": "2023-06-04T06:01:12.095686Z"
    },
    "trusted": true
   },
   "execution_count": 1,
   "outputs": [
    {
     "name": "stdout",
     "text": "/kaggle/input/playground-series-s3e16/sample_submission.csv\n/kaggle/input/playground-series-s3e16/train.csv\n/kaggle/input/playground-series-s3e16/test.csv\n/kaggle/input/crab-age-fine-tuned-gpt2/config.json\n/kaggle/input/crab-age-fine-tuned-gpt2/model.pt\n",
     "output_type": "stream"
    }
   ]
  },
  {
   "cell_type": "code",
   "source": [
    "!pip install transformers==4.26.1 -q # avoiding a dependency issue"
   ],
   "metadata": {
    "execution": {
     "iopub.status.busy": "2023-06-04T06:01:15.150509Z",
     "iopub.execute_input": "2023-06-04T06:01:15.151092Z",
     "iopub.status.idle": "2023-06-04T06:01:38.239504Z",
     "shell.execute_reply.started": "2023-06-04T06:01:15.151052Z",
     "shell.execute_reply": "2023-06-04T06:01:38.238342Z"
    },
    "trusted": true
   },
   "execution_count": 2,
   "outputs": [
    {
     "name": "stdout",
     "text": "\u001B[33mWARNING: Running pip as the 'root' user can result in broken permissions and conflicting behaviour with the system package manager. It is recommended to use a virtual environment instead: https://pip.pypa.io/warnings/venv\u001B[0m\u001B[33m\n\u001B[0m",
     "output_type": "stream"
    }
   ]
  },
  {
   "cell_type": "code",
   "source": [
    "train_data = pd.read_csv('/kaggle/input/playground-series-s3e16/train.csv')"
   ],
   "metadata": {
    "execution": {
     "iopub.status.busy": "2023-06-03T19:26:36.460948Z",
     "iopub.execute_input": "2023-06-03T19:26:36.461327Z",
     "iopub.status.idle": "2023-06-03T19:26:36.652401Z",
     "shell.execute_reply.started": "2023-06-03T19:26:36.461289Z",
     "shell.execute_reply": "2023-06-03T19:26:36.651373Z"
    },
    "trusted": true
   },
   "execution_count": 6,
   "outputs": []
  },
  {
   "cell_type": "code",
   "source": [
    "train_data.head()"
   ],
   "metadata": {
    "execution": {
     "iopub.status.busy": "2023-06-03T19:26:36.653941Z",
     "iopub.execute_input": "2023-06-03T19:26:36.654531Z",
     "iopub.status.idle": "2023-06-03T19:26:36.688009Z",
     "shell.execute_reply.started": "2023-06-03T19:26:36.654495Z",
     "shell.execute_reply": "2023-06-03T19:26:36.686908Z"
    },
    "trusted": true
   },
   "execution_count": 7,
   "outputs": [
    {
     "execution_count": 7,
     "output_type": "execute_result",
     "data": {
      "text/plain": "   id Sex  Length  Diameter  Height     Weight  Shucked Weight  \\\n0   0   I  1.5250    1.1750  0.3750  28.973189       12.728926   \n1   1   I  1.1000    0.8250  0.2750  10.418441        4.521745   \n2   2   M  1.3875    1.1125  0.3750  24.777463       11.339800   \n3   3   F  1.7000    1.4125  0.5000  50.660556       20.354941   \n4   4   I  1.2500    1.0125  0.3375  23.289114       11.977664   \n\n   Viscera Weight  Shell Weight  Age  \n0        6.647958      8.348928    9  \n1        2.324659      3.401940    8  \n2        5.556502      6.662133    9  \n3       10.991839     14.996885   11  \n4        4.507570      5.953395    8  ",
      "text/html": "<div>\n<style scoped>\n    .dataframe tbody tr th:only-of-type {\n        vertical-align: middle;\n    }\n\n    .dataframe tbody tr th {\n        vertical-align: top;\n    }\n\n    .dataframe thead th {\n        text-align: right;\n    }\n</style>\n<table border=\"1\" class=\"dataframe\">\n  <thead>\n    <tr style=\"text-align: right;\">\n      <th></th>\n      <th>id</th>\n      <th>Sex</th>\n      <th>Length</th>\n      <th>Diameter</th>\n      <th>Height</th>\n      <th>Weight</th>\n      <th>Shucked Weight</th>\n      <th>Viscera Weight</th>\n      <th>Shell Weight</th>\n      <th>Age</th>\n    </tr>\n  </thead>\n  <tbody>\n    <tr>\n      <th>0</th>\n      <td>0</td>\n      <td>I</td>\n      <td>1.5250</td>\n      <td>1.1750</td>\n      <td>0.3750</td>\n      <td>28.973189</td>\n      <td>12.728926</td>\n      <td>6.647958</td>\n      <td>8.348928</td>\n      <td>9</td>\n    </tr>\n    <tr>\n      <th>1</th>\n      <td>1</td>\n      <td>I</td>\n      <td>1.1000</td>\n      <td>0.8250</td>\n      <td>0.2750</td>\n      <td>10.418441</td>\n      <td>4.521745</td>\n      <td>2.324659</td>\n      <td>3.401940</td>\n      <td>8</td>\n    </tr>\n    <tr>\n      <th>2</th>\n      <td>2</td>\n      <td>M</td>\n      <td>1.3875</td>\n      <td>1.1125</td>\n      <td>0.3750</td>\n      <td>24.777463</td>\n      <td>11.339800</td>\n      <td>5.556502</td>\n      <td>6.662133</td>\n      <td>9</td>\n    </tr>\n    <tr>\n      <th>3</th>\n      <td>3</td>\n      <td>F</td>\n      <td>1.7000</td>\n      <td>1.4125</td>\n      <td>0.5000</td>\n      <td>50.660556</td>\n      <td>20.354941</td>\n      <td>10.991839</td>\n      <td>14.996885</td>\n      <td>11</td>\n    </tr>\n    <tr>\n      <th>4</th>\n      <td>4</td>\n      <td>I</td>\n      <td>1.2500</td>\n      <td>1.0125</td>\n      <td>0.3375</td>\n      <td>23.289114</td>\n      <td>11.977664</td>\n      <td>4.507570</td>\n      <td>5.953395</td>\n      <td>8</td>\n    </tr>\n  </tbody>\n</table>\n</div>"
     },
     "metadata": {}
    }
   ]
  },
  {
   "cell_type": "code",
   "source": [
    "def row2str(row):\n",
    "    return \", \".join(f\"{name} is {row[name]}\" \n",
    "              for name in row.index if name!='id')"
   ],
   "metadata": {
    "execution": {
     "iopub.status.busy": "2023-06-04T06:01:38.242610Z",
     "iopub.execute_input": "2023-06-04T06:01:38.243262Z",
     "iopub.status.idle": "2023-06-04T06:01:38.249711Z",
     "shell.execute_reply.started": "2023-06-04T06:01:38.243223Z",
     "shell.execute_reply": "2023-06-04T06:01:38.248665Z"
    },
    "trusted": true
   },
   "execution_count": 3,
   "outputs": []
  },
  {
   "cell_type": "code",
   "source": [
    "from tqdm import tqdm\n",
    "tqdm.pandas()"
   ],
   "metadata": {
    "execution": {
     "iopub.status.busy": "2023-06-04T06:01:38.251485Z",
     "iopub.execute_input": "2023-06-04T06:01:38.252375Z",
     "iopub.status.idle": "2023-06-04T06:01:38.260735Z",
     "shell.execute_reply.started": "2023-06-04T06:01:38.252302Z",
     "shell.execute_reply": "2023-06-04T06:01:38.259755Z"
    },
    "trusted": true
   },
   "execution_count": 4,
   "outputs": []
  },
  {
   "cell_type": "code",
   "source": [
    "X_train = train_data.copy()\n",
    "y_train = X_train.pop('Age')"
   ],
   "metadata": {
    "execution": {
     "iopub.status.busy": "2023-06-03T18:13:37.534132Z",
     "iopub.execute_input": "2023-06-03T18:13:37.534530Z",
     "iopub.status.idle": "2023-06-03T18:13:37.551750Z",
     "shell.execute_reply.started": "2023-06-03T18:13:37.534497Z",
     "shell.execute_reply": "2023-06-03T18:13:37.550842Z"
    },
    "trusted": true
   },
   "execution_count": 7,
   "outputs": []
  },
  {
   "cell_type": "code",
   "source": [
    "X_train['prompt'] = X_train.progress_apply(lambda x: row2str(x)+\", Age is\", axis=1)"
   ],
   "metadata": {
    "execution": {
     "iopub.status.busy": "2023-06-03T18:13:42.525635Z",
     "iopub.execute_input": "2023-06-03T18:13:42.526088Z",
     "iopub.status.idle": "2023-06-03T18:13:47.977145Z",
     "shell.execute_reply.started": "2023-06-03T18:13:42.526054Z",
     "shell.execute_reply": "2023-06-03T18:13:47.975948Z"
    },
    "trusted": true
   },
   "execution_count": 8,
   "outputs": [
    {
     "name": "stderr",
     "text": "100%|██████████| 74051/74051 [00:05<00:00, 13644.80it/s]\n",
     "output_type": "stream"
    }
   ]
  },
  {
   "cell_type": "code",
   "source": [
    "prompt = X_train.iloc[0].prompt\n",
    "prompt"
   ],
   "metadata": {
    "execution": {
     "iopub.status.busy": "2023-06-03T18:13:51.322338Z",
     "iopub.execute_input": "2023-06-03T18:13:51.322734Z",
     "iopub.status.idle": "2023-06-03T18:13:51.331498Z",
     "shell.execute_reply.started": "2023-06-03T18:13:51.322703Z",
     "shell.execute_reply": "2023-06-03T18:13:51.330643Z"
    },
    "trusted": true
   },
   "execution_count": 9,
   "outputs": [
    {
     "execution_count": 9,
     "output_type": "execute_result",
     "data": {
      "text/plain": "'Sex is I, Length is 1.525, Diameter is 1.175, Height is 0.375, Weight is 28.973189, Shucked Weight is 12.7289255, Viscera Weight is 6.64795775, Shell Weight is 8.34892775, Age is'"
     },
     "metadata": {}
    }
   ]
  },
  {
   "cell_type": "code",
   "source": [
    "X_sample = X_train[1000:3000]\n",
    "y_sample = y_train[1000:3000]"
   ],
   "metadata": {
    "execution": {
     "iopub.status.busy": "2023-06-03T18:13:53.371920Z",
     "iopub.execute_input": "2023-06-03T18:13:53.372271Z",
     "iopub.status.idle": "2023-06-03T18:13:53.377659Z",
     "shell.execute_reply.started": "2023-06-03T18:13:53.372245Z",
     "shell.execute_reply": "2023-06-03T18:13:53.376755Z"
    },
    "trusted": true
   },
   "execution_count": 10,
   "outputs": []
  },
  {
   "cell_type": "code",
   "source": [
    "def calc_mae(y_true, y_predict):\n",
    "    assert len(y_true)==len(y_predict)\n",
    "    return sum(abs(a-b) for a,b in zip(y_true, y_predict))/len(y_true)"
   ],
   "metadata": {
    "execution": {
     "iopub.status.busy": "2023-06-04T06:01:38.263407Z",
     "iopub.execute_input": "2023-06-04T06:01:38.263844Z",
     "iopub.status.idle": "2023-06-04T06:01:38.271478Z",
     "shell.execute_reply.started": "2023-06-04T06:01:38.263811Z",
     "shell.execute_reply": "2023-06-04T06:01:38.270449Z"
    },
    "trusted": true
   },
   "execution_count": 5,
   "outputs": []
  },
  {
   "cell_type": "code",
   "source": [
    "import torch\n",
    "from transformers import GPT2Tokenizer, GPT2LMHeadModel\n",
    "import torch.nn.functional as F\n",
    "\n",
    "# Load the pre-trained model and tokenizer\n",
    "tokenizer = GPT2Tokenizer.from_pretrained('gpt2')"
   ],
   "metadata": {
    "execution": {
     "iopub.status.busy": "2023-06-04T06:05:35.252922Z",
     "iopub.execute_input": "2023-06-04T06:05:35.253340Z",
     "iopub.status.idle": "2023-06-04T06:05:35.409233Z",
     "shell.execute_reply.started": "2023-06-04T06:05:35.253307Z",
     "shell.execute_reply": "2023-06-04T06:05:35.408254Z"
    },
    "trusted": true
   },
   "execution_count": 16,
   "outputs": []
  },
  {
   "cell_type": "code",
   "source": [
    "model = GPT2LMHeadModel.from_pretrained('gpt2')\n",
    "model.load_state_dict(torch.load(model_path+'model.pt'))"
   ],
   "metadata": {
    "execution": {
     "iopub.status.busy": "2023-06-04T06:06:01.167509Z",
     "iopub.execute_input": "2023-06-04T06:06:01.168298Z",
     "iopub.status.idle": "2023-06-04T06:06:03.592331Z",
     "shell.execute_reply.started": "2023-06-04T06:06:01.168255Z",
     "shell.execute_reply": "2023-06-04T06:06:03.591188Z"
    },
    "trusted": true
   },
   "execution_count": 18,
   "outputs": [
    {
     "execution_count": 18,
     "output_type": "execute_result",
     "data": {
      "text/plain": "<All keys matched successfully>"
     },
     "metadata": {}
    }
   ]
  },
  {
   "cell_type": "code",
   "source": [
    "def age_probs(prompt, temperature=0.7, k=29):\n",
    "    # Encode the prompt using the tokenizer\n",
    "    encoded_prompt = tokenizer.encode(prompt, add_special_tokens=False, return_tensors='pt')\n",
    "\n",
    "    # Generate the next token probabilities using the model\n",
    "    output = model(encoded_prompt)\n",
    "    next_token_logits = output[0][:, -1, :] / temperature\n",
    "    next_token_probabilities = F.softmax(next_token_logits, dim=-1)\n",
    "\n",
    "    # Get the top-10 token possibilities and their probabilities\n",
    "    top_next_token_probabilities, top_next_token_indices = torch.topk(next_token_probabilities, k, dim=-1)\n",
    "\n",
    "    result = [(tokenizer.decode(top_next_token_indices[0][i]), float(top_next_token_probabilities[0][i]))\n",
    "        for i in range(k)\n",
    "    ]\n",
    "    result = [(int(x[0]), x[1]) for x in filter(lambda x: x[0].strip().isnumeric(), result)]\n",
    "    return dict(sorted(result))\n"
   ],
   "metadata": {
    "execution": {
     "iopub.status.busy": "2023-06-04T06:01:51.773344Z",
     "iopub.execute_input": "2023-06-04T06:01:51.773703Z",
     "iopub.status.idle": "2023-06-04T06:01:51.781622Z",
     "shell.execute_reply.started": "2023-06-04T06:01:51.773674Z",
     "shell.execute_reply": "2023-06-04T06:01:51.780702Z"
    },
    "trusted": true
   },
   "execution_count": 6,
   "outputs": []
  },
  {
   "cell_type": "code",
   "source": [
    "sample_probs = X_sample['prompt'].progress_apply(age_probs)"
   ],
   "metadata": {
    "execution": {
     "iopub.status.busy": "2023-06-03T18:40:35.041932Z",
     "iopub.execute_input": "2023-06-03T18:40:35.042794Z",
     "iopub.status.idle": "2023-06-03T18:48:56.656875Z",
     "shell.execute_reply.started": "2023-06-03T18:40:35.042759Z",
     "shell.execute_reply": "2023-06-03T18:48:56.655789Z"
    },
    "trusted": true
   },
   "execution_count": 40,
   "outputs": [
    {
     "name": "stderr",
     "text": "100%|██████████| 2000/2000 [08:21<00:00,  3.99it/s]\n",
     "output_type": "stream"
    }
   ]
  },
  {
   "cell_type": "code",
   "source": [
    "import numpy as np\n",
    "\n",
    "def calculate_median(prob_dict):\n",
    "    \"\"\"\n",
    "    Calculate the median of a probability distribution.\n",
    "\n",
    "    Args:\n",
    "        prob_dict (dict): A dictionary where the keys are the values and the values are the probabilities.\n",
    "\n",
    "    Returns:\n",
    "        float: The median of the probability distribution.\n",
    "    \"\"\"\n",
    "    # Convert the dictionary to a 1-D numpy array\n",
    "    values = np.array(list(prob_dict.keys()))\n",
    "    probs = np.array(list(prob_dict.values()))\n",
    "\n",
    "    # Compute the cumulative distribution function (CDF)\n",
    "    cdf = np.cumsum(probs)\n",
    "\n",
    "    # Find the index i where cdf[i] >= 0.5\n",
    "    i = np.searchsorted(cdf, 0.5)\n",
    "    \n",
    "    return values[i]"
   ],
   "metadata": {
    "execution": {
     "iopub.status.busy": "2023-06-04T06:01:56.302543Z",
     "iopub.execute_input": "2023-06-04T06:01:56.303484Z",
     "iopub.status.idle": "2023-06-04T06:01:56.310405Z",
     "shell.execute_reply.started": "2023-06-04T06:01:56.303439Z",
     "shell.execute_reply": "2023-06-04T06:01:56.309290Z"
    },
    "trusted": true
   },
   "execution_count": 7,
   "outputs": []
  },
  {
   "cell_type": "code",
   "source": [
    "sample_probs[1000]"
   ],
   "metadata": {
    "execution": {
     "iopub.status.busy": "2023-06-03T18:49:17.783473Z",
     "iopub.execute_input": "2023-06-03T18:49:17.784219Z",
     "iopub.status.idle": "2023-06-03T18:49:17.792593Z",
     "shell.execute_reply.started": "2023-06-03T18:49:17.784177Z",
     "shell.execute_reply": "2023-06-03T18:49:17.791551Z"
    },
    "trusted": true
   },
   "execution_count": 42,
   "outputs": [
    {
     "execution_count": 42,
     "output_type": "execute_result",
     "data": {
      "text/plain": "{9: 5.7555629609851167e-05,\n 10: 0.004945171531289816,\n 11: 0.0188369732350111,\n 12: 0.05568859726190567,\n 13: 0.051542844623327255,\n 14: 0.04076721519231796,\n 15: 0.0053699808195233345,\n 16: 0.1850092113018036,\n 17: 0.23313423991203308,\n 18: 0.12777920067310333,\n 19: 0.04261331632733345,\n 20: 0.1832588016986847,\n 21: 0.04383772611618042,\n 22: 0.0011465057032182813,\n 23: 0.003474720288068056,\n 24: 0.0012915021507069468,\n 25: 0.0006016453262418509,\n 26: 0.0002361457736697048,\n 27: 0.00035198775003664196,\n 28: 3.082212060689926e-05,\n 29: 1.1608691238507163e-05,\n 30: 1.0226673111901619e-05,\n 31: 5.099257691654202e-07,\n 32: 7.790997642587172e-07,\n 33: 6.436925445996167e-07,\n 34: 3.6775122680410277e-07,\n 40: 2.370036611409887e-07,\n 42: 2.3193425136014412e-07,\n 49: 2.328810921881086e-07}"
     },
     "metadata": {}
    }
   ]
  },
  {
   "cell_type": "code",
   "source": [
    "calculate_median(sample_probs[1000])"
   ],
   "metadata": {
    "execution": {
     "iopub.status.busy": "2023-06-03T18:49:35.721913Z",
     "iopub.execute_input": "2023-06-03T18:49:35.722402Z",
     "iopub.status.idle": "2023-06-03T18:49:35.735354Z",
     "shell.execute_reply.started": "2023-06-03T18:49:35.722363Z",
     "shell.execute_reply": "2023-06-03T18:49:35.734044Z"
    },
    "trusted": true
   },
   "execution_count": 43,
   "outputs": [
    {
     "execution_count": 43,
     "output_type": "execute_result",
     "data": {
      "text/plain": "17"
     },
     "metadata": {}
    }
   ]
  },
  {
   "cell_type": "code",
   "source": [
    "sample_medians = sample_probs.progress_apply(calculate_median)"
   ],
   "metadata": {
    "execution": {
     "iopub.status.busy": "2023-06-03T18:49:38.722716Z",
     "iopub.execute_input": "2023-06-03T18:49:38.723096Z",
     "iopub.status.idle": "2023-06-03T18:49:38.804048Z",
     "shell.execute_reply.started": "2023-06-03T18:49:38.723066Z",
     "shell.execute_reply": "2023-06-03T18:49:38.803137Z"
    },
    "trusted": true
   },
   "execution_count": 44,
   "outputs": [
    {
     "name": "stderr",
     "text": "100%|██████████| 2000/2000 [00:00<00:00, 27493.45it/s]\n",
     "output_type": "stream"
    }
   ]
  },
  {
   "cell_type": "code",
   "source": [
    "calc_mae(y_sample, sample_medians)"
   ],
   "metadata": {
    "execution": {
     "iopub.status.busy": "2023-06-03T18:49:42.695554Z",
     "iopub.execute_input": "2023-06-03T18:49:42.696522Z",
     "iopub.status.idle": "2023-06-03T18:49:42.704463Z",
     "shell.execute_reply.started": "2023-06-03T18:49:42.696484Z",
     "shell.execute_reply": "2023-06-03T18:49:42.703664Z"
    },
    "trusted": true
   },
   "execution_count": 45,
   "outputs": [
    {
     "execution_count": 45,
     "output_type": "execute_result",
     "data": {
      "text/plain": "1.46"
     },
     "metadata": {}
    }
   ]
  },
  {
   "cell_type": "code",
   "source": [
    "def expected_absolute_error(probs, func):\n",
    "    func_val = func(probs)\n",
    "    return sum(abs(func_val-val)*prob\n",
    "    for val, prob in probs.items())"
   ],
   "metadata": {
    "execution": {
     "iopub.status.busy": "2023-06-04T06:02:03.476528Z",
     "iopub.execute_input": "2023-06-04T06:02:03.477020Z",
     "iopub.status.idle": "2023-06-04T06:02:03.487560Z",
     "shell.execute_reply.started": "2023-06-04T06:02:03.476984Z",
     "shell.execute_reply": "2023-06-04T06:02:03.486411Z"
    },
    "trusted": true
   },
   "execution_count": 8,
   "outputs": []
  },
  {
   "cell_type": "code",
   "source": [
    "expected_absolute_error(sample_probs[1000], calculate_median)"
   ],
   "metadata": {
    "execution": {
     "iopub.status.busy": "2023-06-03T18:57:15.005132Z",
     "iopub.execute_input": "2023-06-03T18:57:15.005510Z",
     "iopub.status.idle": "2023-06-03T18:57:15.012539Z",
     "shell.execute_reply.started": "2023-06-03T18:57:15.005481Z",
     "shell.execute_reply": "2023-06-03T18:57:15.011530Z"
    },
    "trusted": true
   },
   "execution_count": 49,
   "outputs": [
    {
     "execution_count": 49,
     "output_type": "execute_result",
     "data": {
      "text/plain": "1.935641901064173"
     },
     "metadata": {}
    }
   ]
  },
  {
   "cell_type": "code",
   "source": [
    "from functools import partial"
   ],
   "metadata": {
    "execution": {
     "iopub.status.busy": "2023-06-04T06:02:07.325583Z",
     "iopub.execute_input": "2023-06-04T06:02:07.326263Z",
     "iopub.status.idle": "2023-06-04T06:02:07.331556Z",
     "shell.execute_reply.started": "2023-06-04T06:02:07.326229Z",
     "shell.execute_reply": "2023-06-04T06:02:07.330356Z"
    },
    "trusted": true
   },
   "execution_count": 9,
   "outputs": []
  },
  {
   "cell_type": "code",
   "source": [
    "sample_probs.progress_apply(partial(expected_absolute_error, func=calculate_median)).mean()"
   ],
   "metadata": {
    "execution": {
     "iopub.status.busy": "2023-06-03T18:59:36.569020Z",
     "iopub.execute_input": "2023-06-03T18:59:36.569934Z",
     "iopub.status.idle": "2023-06-03T18:59:36.854584Z",
     "shell.execute_reply.started": "2023-06-03T18:59:36.569900Z",
     "shell.execute_reply": "2023-06-03T18:59:36.853632Z"
    },
    "trusted": true
   },
   "execution_count": 53,
   "outputs": [
    {
     "name": "stderr",
     "text": "100%|██████████| 2000/2000 [00:00<00:00, 7491.53it/s]\n",
     "output_type": "stream"
    },
    {
     "execution_count": 53,
     "output_type": "execute_result",
     "data": {
      "text/plain": "0.9644302914638322"
     },
     "metadata": {}
    }
   ]
  },
  {
   "cell_type": "code",
   "source": [
    "sample_probs.apply(lambda x: min(x.values())).max()"
   ],
   "metadata": {
    "execution": {
     "iopub.status.busy": "2023-06-03T19:00:29.800326Z",
     "iopub.execute_input": "2023-06-03T19:00:29.800681Z",
     "iopub.status.idle": "2023-06-03T19:00:29.812368Z",
     "shell.execute_reply.started": "2023-06-03T19:00:29.800653Z",
     "shell.execute_reply": "2023-06-03T19:00:29.811372Z"
    },
    "trusted": true
   },
   "execution_count": 55,
   "outputs": [
    {
     "execution_count": 55,
     "output_type": "execute_result",
     "data": {
      "text/plain": "0.0001329632941633463"
     },
     "metadata": {}
    }
   ]
  },
  {
   "cell_type": "code",
   "source": [
    "sample_max = sample_probs.progress_apply(lambda x: max(x.items(), key=lambda y: y[1])[0])"
   ],
   "metadata": {
    "execution": {
     "iopub.status.busy": "2023-06-03T19:08:17.236292Z",
     "iopub.execute_input": "2023-06-03T19:08:17.236760Z",
     "iopub.status.idle": "2023-06-03T19:08:17.263820Z",
     "shell.execute_reply.started": "2023-06-03T19:08:17.236646Z",
     "shell.execute_reply": "2023-06-03T19:08:17.262851Z"
    },
    "trusted": true
   },
   "execution_count": 56,
   "outputs": [
    {
     "name": "stderr",
     "text": "100%|██████████| 2000/2000 [00:00<00:00, 118899.65it/s]\n",
     "output_type": "stream"
    }
   ]
  },
  {
   "cell_type": "code",
   "source": [
    "calc_mae(y_sample, sample_max)"
   ],
   "metadata": {
    "execution": {
     "iopub.status.busy": "2023-06-03T19:08:39.970749Z",
     "iopub.execute_input": "2023-06-03T19:08:39.971126Z",
     "iopub.status.idle": "2023-06-03T19:08:39.979175Z",
     "shell.execute_reply.started": "2023-06-03T19:08:39.971096Z",
     "shell.execute_reply": "2023-06-03T19:08:39.978027Z"
    },
    "trusted": true
   },
   "execution_count": 57,
   "outputs": [
    {
     "execution_count": 57,
     "output_type": "execute_result",
     "data": {
      "text/plain": "1.537"
     },
     "metadata": {}
    }
   ]
  },
  {
   "cell_type": "code",
   "source": [
    "!pip install be-great==0.0.3 -q"
   ],
   "metadata": {
    "execution": {
     "iopub.status.busy": "2023-06-04T06:02:15.886385Z",
     "iopub.execute_input": "2023-06-04T06:02:15.887194Z",
     "iopub.status.idle": "2023-06-04T06:02:28.978498Z",
     "shell.execute_reply.started": "2023-06-04T06:02:15.887159Z",
     "shell.execute_reply": "2023-06-04T06:02:28.977260Z"
    },
    "trusted": true
   },
   "execution_count": 10,
   "outputs": [
    {
     "name": "stdout",
     "text": "\u001B[33mWARNING: Running pip as the 'root' user can result in broken permissions and conflicting behaviour with the system package manager. It is recommended to use a virtual environment instead: https://pip.pypa.io/warnings/venv\u001B[0m\u001B[33m\n\u001B[0m",
     "output_type": "stream"
    }
   ]
  },
  {
   "cell_type": "code",
   "source": [
    "from be_great import GReaT\n",
    "\n",
    "model = GReaT.load_from_dir(model_path)\n",
    "synthetic_data = model.sample(\n",
    "    n_samples=2_000,    # change this to generate more samples\n",
    "    k=50,\n",
    "    temperature=0.7,  # values between 0.5-0.9 generally give good results\n",
    "    max_length=256,\n",
    "    device=\"cuda\")\n",
    "synthetic_data = synthetic_data.rename_axis('id')\n",
    "synthetic_data.to_csv('synthetic_data.csv')\n",
    "synthetic_data.head()"
   ],
   "metadata": {
    "execution": {
     "iopub.status.busy": "2023-06-04T06:02:28.981547Z",
     "iopub.execute_input": "2023-06-04T06:02:28.981971Z",
     "iopub.status.idle": "2023-06-04T06:04:00.678476Z",
     "shell.execute_reply.started": "2023-06-04T06:02:28.981935Z",
     "shell.execute_reply": "2023-06-04T06:04:00.677301Z"
    },
    "trusted": true
   },
   "execution_count": 11,
   "outputs": [
    {
     "output_type": "display_data",
     "data": {
      "text/plain": "Downloading (…)lve/main/config.json:   0%|          | 0.00/665 [00:00<?, ?B/s]",
      "application/vnd.jupyter.widget-view+json": {
       "version_major": 2,
       "version_minor": 0,
       "model_id": "be0192da55054816becb7a7778c721ae"
      }
     },
     "metadata": {}
    },
    {
     "output_type": "display_data",
     "data": {
      "text/plain": "Downloading (…)olve/main/vocab.json:   0%|          | 0.00/1.04M [00:00<?, ?B/s]",
      "application/vnd.jupyter.widget-view+json": {
       "version_major": 2,
       "version_minor": 0,
       "model_id": "6877d34cb2f24610847b70c5b43e9d03"
      }
     },
     "metadata": {}
    },
    {
     "output_type": "display_data",
     "data": {
      "text/plain": "Downloading (…)olve/main/merges.txt:   0%|          | 0.00/456k [00:00<?, ?B/s]",
      "application/vnd.jupyter.widget-view+json": {
       "version_major": 2,
       "version_minor": 0,
       "model_id": "0315f58426094906879e8eeeba47e68b"
      }
     },
     "metadata": {}
    },
    {
     "output_type": "display_data",
     "data": {
      "text/plain": "Downloading (…)/main/tokenizer.json:   0%|          | 0.00/1.36M [00:00<?, ?B/s]",
      "application/vnd.jupyter.widget-view+json": {
       "version_major": 2,
       "version_minor": 0,
       "model_id": "1d28b0e845b74fc7b12f51103ffa54c3"
      }
     },
     "metadata": {}
    },
    {
     "output_type": "display_data",
     "data": {
      "text/plain": "Downloading model.safetensors:   0%|          | 0.00/548M [00:00<?, ?B/s]",
      "application/vnd.jupyter.widget-view+json": {
       "version_major": 2,
       "version_minor": 0,
       "model_id": "fcbc49a7c57544a7900005a4c1d68839"
      }
     },
     "metadata": {}
    },
    {
     "output_type": "display_data",
     "data": {
      "text/plain": "Downloading (…)neration_config.json:   0%|          | 0.00/124 [00:00<?, ?B/s]",
      "application/vnd.jupyter.widget-view+json": {
       "version_major": 2,
       "version_minor": 0,
       "model_id": "f79efa09f23f4e2cb23428b6892a1dc4"
      }
     },
     "metadata": {}
    },
    {
     "name": "stderr",
     "text": "2049it [00:56, 36.23it/s]                          \n",
     "output_type": "stream"
    },
    {
     "execution_count": 11,
     "output_type": "execute_result",
     "data": {
      "text/plain": "   Sex  Length  Diameter  Height     Weight  Shucked Weight  Viscera Weight  \\\nid                                                                            \n0    F  1.4375    1.1250  0.4250  32.077459       14.840963        7.370870   \n1    F  0.9625    0.7375  0.2500   9.497082        4.252425        1.842718   \n2    I  0.6875    0.5500  0.1625   2.806601        1.048931        0.666213   \n3    F  1.5625    1.2250  0.5000  37.137845       16.428535        8.774170   \n4    I  1.0250    0.8125  0.2125   8.533200        3.912231        1.956115   \n\n    Shell Weight   Age  \nid                      \n0       8.193005   9.0  \n1       2.466407   6.0  \n2       0.850485   5.0  \n3       9.497082  11.0  \n4       2.551455   8.0  ",
      "text/html": "<div>\n<style scoped>\n    .dataframe tbody tr th:only-of-type {\n        vertical-align: middle;\n    }\n\n    .dataframe tbody tr th {\n        vertical-align: top;\n    }\n\n    .dataframe thead th {\n        text-align: right;\n    }\n</style>\n<table border=\"1\" class=\"dataframe\">\n  <thead>\n    <tr style=\"text-align: right;\">\n      <th></th>\n      <th>Sex</th>\n      <th>Length</th>\n      <th>Diameter</th>\n      <th>Height</th>\n      <th>Weight</th>\n      <th>Shucked Weight</th>\n      <th>Viscera Weight</th>\n      <th>Shell Weight</th>\n      <th>Age</th>\n    </tr>\n    <tr>\n      <th>id</th>\n      <th></th>\n      <th></th>\n      <th></th>\n      <th></th>\n      <th></th>\n      <th></th>\n      <th></th>\n      <th></th>\n      <th></th>\n    </tr>\n  </thead>\n  <tbody>\n    <tr>\n      <th>0</th>\n      <td>F</td>\n      <td>1.4375</td>\n      <td>1.1250</td>\n      <td>0.4250</td>\n      <td>32.077459</td>\n      <td>14.840963</td>\n      <td>7.370870</td>\n      <td>8.193005</td>\n      <td>9.0</td>\n    </tr>\n    <tr>\n      <th>1</th>\n      <td>F</td>\n      <td>0.9625</td>\n      <td>0.7375</td>\n      <td>0.2500</td>\n      <td>9.497082</td>\n      <td>4.252425</td>\n      <td>1.842718</td>\n      <td>2.466407</td>\n      <td>6.0</td>\n    </tr>\n    <tr>\n      <th>2</th>\n      <td>I</td>\n      <td>0.6875</td>\n      <td>0.5500</td>\n      <td>0.1625</td>\n      <td>2.806601</td>\n      <td>1.048931</td>\n      <td>0.666213</td>\n      <td>0.850485</td>\n      <td>5.0</td>\n    </tr>\n    <tr>\n      <th>3</th>\n      <td>F</td>\n      <td>1.5625</td>\n      <td>1.2250</td>\n      <td>0.5000</td>\n      <td>37.137845</td>\n      <td>16.428535</td>\n      <td>8.774170</td>\n      <td>9.497082</td>\n      <td>11.0</td>\n    </tr>\n    <tr>\n      <th>4</th>\n      <td>I</td>\n      <td>1.0250</td>\n      <td>0.8125</td>\n      <td>0.2125</td>\n      <td>8.533200</td>\n      <td>3.912231</td>\n      <td>1.956115</td>\n      <td>2.551455</td>\n      <td>8.0</td>\n    </tr>\n  </tbody>\n</table>\n</div>"
     },
     "metadata": {}
    }
   ]
  },
  {
   "cell_type": "code",
   "source": [
    "X_syntetic = synthetic_data.copy()\n",
    "y_syntetic = X_syntetic.pop('Age')"
   ],
   "metadata": {
    "execution": {
     "iopub.status.busy": "2023-06-04T06:04:06.692848Z",
     "iopub.execute_input": "2023-06-04T06:04:06.693226Z",
     "iopub.status.idle": "2023-06-04T06:04:06.699290Z",
     "shell.execute_reply.started": "2023-06-04T06:04:06.693198Z",
     "shell.execute_reply": "2023-06-04T06:04:06.697995Z"
    },
    "trusted": true
   },
   "execution_count": 12,
   "outputs": []
  },
  {
   "cell_type": "code",
   "source": [
    "X_syntetic['prompt'] = X_syntetic.progress_apply(lambda x: row2str(x)+\", Age is\", axis=1)"
   ],
   "metadata": {
    "execution": {
     "iopub.status.busy": "2023-06-04T06:04:10.392780Z",
     "iopub.execute_input": "2023-06-04T06:04:10.393139Z",
     "iopub.status.idle": "2023-06-04T06:04:10.528558Z",
     "shell.execute_reply.started": "2023-06-04T06:04:10.393111Z",
     "shell.execute_reply": "2023-06-04T06:04:10.527472Z"
    },
    "trusted": true
   },
   "execution_count": 13,
   "outputs": [
    {
     "name": "stderr",
     "text": "100%|██████████| 2000/2000 [00:00<00:00, 15955.96it/s]\n",
     "output_type": "stream"
    }
   ]
  },
  {
   "cell_type": "code",
   "source": [
    "X_syntetic.iloc[0]['prompt']"
   ],
   "metadata": {
    "execution": {
     "iopub.status.busy": "2023-06-04T06:04:14.492022Z",
     "iopub.execute_input": "2023-06-04T06:04:14.493130Z",
     "iopub.status.idle": "2023-06-04T06:04:14.501323Z",
     "shell.execute_reply.started": "2023-06-04T06:04:14.493086Z",
     "shell.execute_reply": "2023-06-04T06:04:14.500200Z"
    },
    "trusted": true
   },
   "execution_count": 14,
   "outputs": [
    {
     "execution_count": 14,
     "output_type": "execute_result",
     "data": {
      "text/plain": "'Sex is F, Length is 1.4375, Diameter is 1.125, Height is 0.425, Weight is 32.07745925, Shucked Weight is 14.84096325, Viscera Weight is 7.37087, Shell Weight is 8.1930055, Age is'"
     },
     "metadata": {}
    }
   ]
  },
  {
   "cell_type": "code",
   "source": [
    "syntetic_probs = X_syntetic['prompt'].progress_apply(age_probs)"
   ],
   "metadata": {
    "execution": {
     "iopub.status.busy": "2023-06-04T06:06:07.465352Z",
     "iopub.execute_input": "2023-06-04T06:06:07.465741Z",
     "iopub.status.idle": "2023-06-04T06:14:51.697246Z",
     "shell.execute_reply.started": "2023-06-04T06:06:07.465693Z",
     "shell.execute_reply": "2023-06-04T06:14:51.696152Z"
    },
    "trusted": true
   },
   "execution_count": 19,
   "outputs": [
    {
     "name": "stderr",
     "text": "100%|██████████| 2000/2000 [08:44<00:00,  3.82it/s]\n",
     "output_type": "stream"
    }
   ]
  },
  {
   "cell_type": "code",
   "source": [
    "syntetic_medians = syntetic_probs.progress_apply(calculate_median)"
   ],
   "metadata": {
    "execution": {
     "iopub.status.busy": "2023-06-04T06:14:54.532829Z",
     "iopub.execute_input": "2023-06-04T06:14:54.533192Z",
     "iopub.status.idle": "2023-06-04T06:14:54.624086Z",
     "shell.execute_reply.started": "2023-06-04T06:14:54.533163Z",
     "shell.execute_reply": "2023-06-04T06:14:54.622635Z"
    },
    "trusted": true
   },
   "execution_count": 20,
   "outputs": [
    {
     "name": "stderr",
     "text": "100%|██████████| 2000/2000 [00:00<00:00, 24475.42it/s]\n",
     "output_type": "stream"
    }
   ]
  },
  {
   "cell_type": "code",
   "source": [
    "calc_mae(y_syntetic, syntetic_medians)"
   ],
   "metadata": {
    "execution": {
     "iopub.status.busy": "2023-06-04T06:14:57.200432Z",
     "iopub.execute_input": "2023-06-04T06:14:57.200881Z",
     "iopub.status.idle": "2023-06-04T06:14:57.209785Z",
     "shell.execute_reply.started": "2023-06-04T06:14:57.200844Z",
     "shell.execute_reply": "2023-06-04T06:14:57.208643Z"
    },
    "trusted": true
   },
   "execution_count": 21,
   "outputs": [
    {
     "execution_count": 21,
     "output_type": "execute_result",
     "data": {
      "text/plain": "1.4185"
     },
     "metadata": {}
    }
   ]
  },
  {
   "cell_type": "code",
   "source": [
    "syntetic_probs.progress_apply(partial(expected_absolute_error, func=calculate_median)).mean()"
   ],
   "metadata": {
    "execution": {
     "iopub.status.busy": "2023-06-04T06:14:59.926432Z",
     "iopub.execute_input": "2023-06-04T06:14:59.926840Z",
     "iopub.status.idle": "2023-06-04T06:15:00.246590Z",
     "shell.execute_reply.started": "2023-06-04T06:14:59.926808Z",
     "shell.execute_reply": "2023-06-04T06:15:00.245446Z"
    },
    "trusted": true
   },
   "execution_count": 22,
   "outputs": [
    {
     "name": "stderr",
     "text": "100%|██████████| 2000/2000 [00:00<00:00, 6576.21it/s]\n",
     "output_type": "stream"
    },
    {
     "execution_count": 22,
     "output_type": "execute_result",
     "data": {
      "text/plain": "0.9821774885822849"
     },
     "metadata": {}
    }
   ]
  },
  {
   "cell_type": "code",
   "execution_count": null,
   "outputs": [],
   "source": [
    "from statistics import mean\n",
    "\n",
    "mean"
   ],
   "metadata": {
    "collapsed": false
   }
  }
 ]
}
